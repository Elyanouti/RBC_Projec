{
 "cells": [
  {
   "cell_type": "markdown",
   "id": "5cc6c2d1",
   "metadata": {},
   "source": [
    "# Comparaison des modèles RBC\n",
    "\n",
    "Ce notebook présente une comparaison visuelle entre trois modèles de blockchain redactable : RBC_Ateniese, RBC_Deuber et RBC_Puddu. Les métriques principales sont comparées à l'aide de graphiques.\n",
    "\n",
    "## Plan du notebook\n",
    "1. Importer les bibliothèques nécessaires\n",
    "2. Créer les données de comparaison\n",
    "3. Tracer les graphiques de comparaison\n",
    "4. Ajouter des annotations et une légende\n"
   ]
  },
  {
   "cell_type": "code",
   "execution_count": null,
   "id": "63e2131f",
   "metadata": {},
   "outputs": [],
   "source": [
    "# Importer les bibliothèques nécessaires\n",
    "import matplotlib.pyplot as plt\n",
    "import numpy as np\n",
    "import pandas as pd\n"
   ]
  },
  {
   "cell_type": "code",
   "execution_count": null,
   "id": "1d8e93d7",
   "metadata": {},
   "outputs": [],
   "source": [
    "# Créer les données de comparaison\n",
    "models = ['Ateniese', 'Deuber', 'Puddu']\n",
    "blocks = [79, 8, 10]\n",
    "transactions = [132586, 13285, 6957]\n",
    "redaction_profit = [0.02836, 0.014027, 0.005659]\n",
    "redaction_time = [0, 112.41, 15.63]\n",
    "throughput = [17860, 26337, 7504]\n",
    "storage = [80, 9, 11]\n"
   ]
  },
  {
   "cell_type": "code",
   "execution_count": null,
   "id": "2cb12a66",
   "metadata": {},
   "outputs": [],
   "source": [
    "# Tracer les graphiques de comparaison\n",
    "fig, axs = plt.subplots(2, 3, figsize=(18, 10))\n",
    "\n",
    "# Nombre de blocs\n",
    "axs[0, 0].bar(models, blocks, color=['blue', 'green', 'orange'])\n",
    "axs[0, 0].set_title('Nombre de blocs')\n",
    "axs[0, 0].set_ylabel('Blocs')\n",
    "\n",
    "# Nombre de transactions\n",
    "axs[0, 1].bar(models, transactions, color=['blue', 'green', 'orange'])\n",
    "axs[0, 1].set_title('Nombre de transactions')\n",
    "axs[0, 1].set_ylabel('Transactions')\n",
    "\n",
    "# Profit de redaction\n",
    "axs[0, 2].bar(models, redaction_profit, color=['blue', 'green', 'orange'])\n",
    "axs[0, 2].set_title('Profit de redaction (ETH)')\n",
    "axs[0, 2].set_ylabel('ETH')\n",
    "\n",
    "# Temps de redaction\n",
    "axs[1, 0].bar(models, redaction_time, color=['blue', 'green', 'orange'])\n",
    "axs[1, 0].set_title('Temps de redaction (ms)')\n",
    "axs[1, 0].set_ylabel('ms')\n",
    "\n",
    "# Throughput\n",
    "axs[1, 1].bar(models, throughput, color=['blue', 'green', 'orange'])\n",
    "axs[1, 1].set_title('Transaction Throughput')\n",
    "axs[1, 1].set_ylabel('tx/sec')\n",
    "\n",
    "# Stockage\n",
    "axs[1, 2].bar(models, storage, color=['blue', 'green', 'orange'])\n",
    "axs[1, 2].set_title('Stockage total (MB)')\n",
    "axs[1, 2].set_ylabel('MB')\n",
    "\n",
    "plt.tight_layout()\n",
    "plt.show()\n"
   ]
  }
 ],
 "metadata": {
  "language_info": {
   "name": "python"
  }
 },
 "nbformat": 4,
 "nbformat_minor": 5
}
